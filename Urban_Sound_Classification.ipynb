{
  "nbformat": 4,
  "nbformat_minor": 0,
  "metadata": {
    "colab": {
      "name": "Urban_Sound_Classification.ipynb",
      "provenance": [],
      "authorship_tag": "ABX9TyNBaQnU+NVM6VTpIEPLS1L0",
      "include_colab_link": true
    },
    "kernelspec": {
      "name": "python3",
      "display_name": "Python 3"
    },
    "language_info": {
      "name": "python"
    }
  },
  "cells": [
    {
      "cell_type": "markdown",
      "metadata": {
        "id": "view-in-github",
        "colab_type": "text"
      },
      "source": [
        "<a href=\"https://colab.research.google.com/github/antonelladamico17/Urban-Sound-Classification/blob/main/Urban_Sound_Classification.ipynb\" target=\"_parent\"><img src=\"https://colab.research.google.com/assets/colab-badge.svg\" alt=\"Open In Colab\"/></a>"
      ]
    },
    {
      "cell_type": "markdown",
      "metadata": {
        "id": "XeyTxjzEIqwe"
      },
      "source": [
        "*Antonella D'Amico 961150*"
      ]
    },
    {
      "cell_type": "markdown",
      "metadata": {
        "id": "GmdxlsqLJgzz"
      },
      "source": [
        "**Machine Learing Project** \\\\\n",
        "*Urban Sound Classification with Neural Networks*"
      ]
    },
    {
      "cell_type": "markdown",
      "metadata": {
        "id": "ujyNu4iNI2rR"
      },
      "source": [
        "## Data Pre-Processing"
      ]
    },
    {
      "cell_type": "code",
      "metadata": {
        "id": "AtMzGK_AQqQx"
      },
      "source": [
        "import pandas as pd\n",
        "import numpy as np\n",
        "import librosa #python package for music and audio analysis\n",
        "import matplotlib.pyplot as plt #we want to display the signals of one of the file\n",
        "import IPython.display as ipd\n",
        "import librosa.display\n",
        "import seaborn"
      ],
      "execution_count": null,
      "outputs": []
    },
    {
      "cell_type": "code",
      "metadata": {
        "id": "R_rX3zBlQtwk"
      },
      "source": [
        "from google.colab import drive\n",
        "drive.mount('/content/drive')"
      ],
      "execution_count": null,
      "outputs": []
    },
    {
      "cell_type": "code",
      "metadata": {
        "id": "c3Qc7YKIQtpH"
      },
      "source": [
        "audio_dataset_path = '/content/drive/MyDrive/UrbanSound8K/audio'"
      ],
      "execution_count": null,
      "outputs": []
    },
    {
      "cell_type": "code",
      "metadata": {
        "id": "x7VjScBkQtnT"
      },
      "source": [
        "# metadata file\n",
        "metadata = pd.read_csv('/content/drive/MyDrive/UrbanSound8K/metadata/UrbanSound8K.csv')"
      ],
      "execution_count": null,
      "outputs": []
    },
    {
      "cell_type": "markdown",
      "metadata": {
        "id": "MAKeO8V5bqNt"
      },
      "source": [
        "In this table we can see the file name, in which folder it is saved and the corresponding class. So, for example, audio file name `100032-3-0-0.wav` is classified as a dog bark."
      ]
    },
    {
      "cell_type": "code",
      "metadata": {
        "id": "BqzGBMh3Qtgo"
      },
      "source": [
        "metadata.head(10)"
      ],
      "execution_count": null,
      "outputs": []
    },
    {
      "cell_type": "markdown",
      "metadata": {
        "id": "iUfArWg3b-nV"
      },
      "source": [
        "Now we look at the distribution of the dataset, so we check if it is balanced or not."
      ]
    },
    {
      "cell_type": "code",
      "metadata": {
        "id": "5cWPF-JfQ-gB"
      },
      "source": [
        "metadata['class'].value_counts()"
      ],
      "execution_count": null,
      "outputs": []
    },
    {
      "cell_type": "markdown",
      "metadata": {
        "id": "lAq0ASFlcOXM"
      },
      "source": [
        "As we see, we have 10 classes. Most of them are blanced since they contains 1000 samples or 929, on the other hand we have two of them which contain less than 500 samples. Only two classes are imbalanced beacuse of a smaller number of samples."
      ]
    },
    {
      "cell_type": "code",
      "metadata": {
        "id": "sWBqc-jxQ-VW"
      },
      "source": [
        "plt.figure(figsize=(7,7))\n",
        "seaborn.countplot(y = metadata['class'], \n",
        "                  palette= \"light:#7B7\",\n",
        "                  order = metadata['class'].value_counts().index)\n",
        "plt.title('Metadata balancing/imbalancing', fontsize=10)"
      ],
      "execution_count": null,
      "outputs": []
    }
  ]
}